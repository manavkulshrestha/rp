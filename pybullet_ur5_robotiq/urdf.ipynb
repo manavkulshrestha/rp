{
 "cells": [
  {
   "cell_type": "code",
   "execution_count": 2,
   "id": "dee1fafc",
   "metadata": {},
   "outputs": [
    {
     "name": "stdout",
     "output_type": "stream",
     "text": [
      "Requirement already satisfied: object2urdf in /home/mk/anaconda3/envs/rp/lib/python3.10/site-packages (0.12)\n",
      "Requirement already satisfied: scipy in /home/mk/anaconda3/envs/rp/lib/python3.10/site-packages (from object2urdf) (1.7.3)\n",
      "Requirement already satisfied: pillow in /home/mk/anaconda3/envs/rp/lib/python3.10/site-packages (from object2urdf) (9.2.0)\n",
      "Requirement already satisfied: numpy in /home/mk/anaconda3/envs/rp/lib/python3.10/site-packages (from object2urdf) (1.22.3)\n",
      "Requirement already satisfied: trimesh in /home/mk/anaconda3/envs/rp/lib/python3.10/site-packages (from object2urdf) (3.15.5)\n",
      "Collecting pytimedinput\n",
      "  Downloading pytimedinput-2.0.1-py3-none-any.whl (6.1 kB)\n",
      "Installing collected packages: pytimedinput\n",
      "Successfully installed pytimedinput-2.0.1\n"
     ]
    }
   ],
   "source": [
    "!pip install object2urdf\n",
    "!pip install pytimedinput"
   ]
  },
  {
   "cell_type": "code",
   "execution_count": 2,
   "id": "71960f74",
   "metadata": {},
   "outputs": [],
   "source": [
    "from object2urdf import ObjectUrdfBuilder\n",
    "import os\n",
    "import sys\n",
    "import numpy as np"
   ]
  },
  {
   "cell_type": "code",
   "execution_count": 3,
   "id": "294b068f",
   "metadata": {},
   "outputs": [
    {
     "name": "stdout",
     "output_type": "stream",
     "text": [
      "\n",
      "FOLDER: /home/mk/rp/pybullet_ur5_robotiq/urdfc\n",
      "\tBuilding: /cylinder/tinker.obj\n"
     ]
    }
   ],
   "source": [
    "builder = ObjectUrdfBuilder('urdfc')\n",
    "\n",
    "builder.build_library(force_overwrite=True, decompose_concave=True, force_decompose=False, center='mass')"
   ]
  },
  {
   "cell_type": "code",
   "execution_count": 6,
   "id": "27566835",
   "metadata": {},
   "outputs": [
    {
     "name": "stdout",
     "output_type": "stream",
     "text": [
      "0.4160655362053999 0.13895618220307226 0.05400398384796701\n",
      "0.8708585184367256 0.13537291463132384 0.2942509320637464\n",
      "0.5285494304846649 0.8052616853729326 0.47328724440755865\n",
      "0.45815538934366873 0.5622777225161942 0.12222557471515583\n",
      "0.8728815094572616 0.11715588167789504 0.9012921785976408\n",
      "0.5073394885634267 0.661892369457534 0.27415014409131155\n",
      "0.520059254934221 0.4733167572634138 0.5049641813650521\n",
      "0.2448837131753191 0.5174992612426157 0.8959927219176224\n"
     ]
    }
   ],
   "source": [
    "for _ in range(8):\n",
    "    print(' '.join(map(str, np.random.uniform(size=3))))"
   ]
  },
  {
   "cell_type": "code",
   "execution_count": null,
   "id": "8dc21420",
   "metadata": {},
   "outputs": [
    {
     "name": "stderr",
     "output_type": "stream",
     "text": [
      "pybullet build time: Nov 30 2022 16:56:59\n"
     ]
    }
   ],
   "source": [
    "import pandas as pd\n",
    "import numpy as np\n",
    "import pybullet as p\n",
    "import time\n",
    "import pybullet_data\n",
    "import jsonpickle\n",
    "import os\n",
    "from pytimedinput import timedInput\n",
    "\n",
    "ASSETS_ROOT = os.path.abspath(\"urdf\")\n",
    "ASSET_ROOT2 = os.path.abspath('urdfc')\n",
    "\n",
    "physicsClient = p.connect(p.GUI)\n",
    "p.setAdditionalSearchPath(pybullet_data.getDataPath())\n",
    "p.setGravity(0,0,-9.81)\n",
    "\n",
    "target = (-0.07796166092157364, 0.005451506469398737, -0.06238798052072525)\n",
    "dist = 1.0\n",
    "yaw = 89.6000747680664\n",
    "pitch = -17.800016403198242\n",
    "p.resetDebugVisualizerCamera(dist,yaw,pitch,target)\n",
    "\n",
    "planeId = p.loadURDF(os.path.join(ASSETS_ROOT, 'plane/plane.urdf'))\n",
    "\n",
    "origin = np.zeros(3)\n",
    "noRotation = p.getQuaternionFromEuler([0,0,0])\n",
    "\n",
    "def load_obj(otype, od=origin, rot=noRotation, tp=True, wait=0):\n",
    "    \n",
    "    try:\n",
    "        ret = p.loadURDF(os.path.join(ASSET_ROOT2, f'{otype}.urdf'), od, rot)\n",
    "    except Exception as e:\n",
    "        print(otype)\n",
    "        raise e\n",
    "    \n",
    "    for _ in range(wait):\n",
    "        p.stepSimulation()\n",
    "        time.sleep(1./240.)\n",
    "    \n",
    "def load_obj2(otype, od=origin, rot=noRotation, tp=True):\n",
    "    ret = p.loadURDF(os.path.join(ASSETS_ROOT, f'objects/{otype}.urdf'), od, rot)\n",
    "    \n",
    "    return ret\n",
    "object_types = ['cube', 'cuboid', 'cut_cuboid', 'cylinder', 'pyramid', 'roof', 'small_cuboid', 'thin_cuboid']\n",
    "for ot in object_types:\n",
    "    load_obj(ot, od=np.array([0,0.05,0.2]), wait=100)\n",
    "\n",
    "while True:\n",
    "    try:\n",
    "        p.stepSimulation()\n",
    "        time.sleep(1./240.)\n",
    "    except:\n",
    "        break\n",
    "        \n",
    "p.disconnect()"
   ]
  },
  {
   "cell_type": "code",
   "execution_count": null,
   "id": "6b2e4ab5",
   "metadata": {},
   "outputs": [],
   "source": []
  }
 ],
 "metadata": {
  "kernelspec": {
   "display_name": "Python 3 (ipykernel)",
   "language": "python",
   "name": "python3"
  },
  "language_info": {
   "codemirror_mode": {
    "name": "ipython",
    "version": 3
   },
   "file_extension": ".py",
   "mimetype": "text/x-python",
   "name": "python",
   "nbconvert_exporter": "python",
   "pygments_lexer": "ipython3",
   "version": "3.10.6"
  }
 },
 "nbformat": 4,
 "nbformat_minor": 5
}
