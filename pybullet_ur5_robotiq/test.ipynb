{
 "cells": [
  {
   "cell_type": "code",
   "execution_count": 1,
   "id": "6c43fd81",
   "metadata": {},
   "outputs": [],
   "source": [
    "import numpy as np"
   ]
  },
  {
   "cell_type": "code",
   "execution_count": 3,
   "id": "ffe870bc",
   "metadata": {},
   "outputs": [
    {
     "data": {
      "text/plain": [
       "array([False,  True,  True, False, False,  True,  True, False])"
      ]
     },
     "execution_count": 3,
     "metadata": {},
     "output_type": "execute_result"
    }
   ],
   "source": [
    "x = np.array([1,2,2,1,1,2,2,1])\n",
    "~(x == x[0])"
   ]
  },
  {
   "cell_type": "code",
   "execution_count": null,
   "id": "9487e454",
   "metadata": {},
   "outputs": [],
   "source": [
    "def draw_face(mesh, sc, f_idx, which=0):\n",
    "    dfaces = mesh.faces[f_idx]\n",
    "    \n",
    "    tf_f = np.hstack([dfaces, dfaces[:,0].reshape(-1,1)])\n",
    "    \n",
    "    p1 = get_path(tf_f[which], c1)\n",
    "    sc.add_geometry([p1])\n",
    "    \n",
    "    return sc"
   ]
  },
  {
   "cell_type": "code",
   "execution_count": 34,
   "id": "02526497",
   "metadata": {},
   "outputs": [
    {
     "name": "stdout",
     "output_type": "stream",
     "text": [
      "1.0000000053248024 = norm w\n",
      "[-0.01010719  0.83667492  0.        ] 0.8367359661486427\n"
     ]
    }
   ],
   "source": [
    "from numpy.linalg import norm\n",
    "\n",
    "v = np.array([0, 0, 1])\n",
    "w = np.array([ 0.83667492,  0.01010719, -0.54760655])\n",
    "\n",
    "assert(norm(v)-1 < 1e-5)\n",
    "assert(norm(w)-1 < 1e-5)\n",
    "\n",
    "# v *= 10000\n",
    "# w *= 10000\n",
    "\n",
    "print(norm(w), '= norm w')\n",
    "\n",
    "cross = np.cross(v, w)\n",
    "print(cross, norm(cross))"
   ]
  },
  {
   "cell_type": "code",
   "execution_count": null,
   "id": "c81b0512",
   "metadata": {},
   "outputs": [],
   "source": []
  }
 ],
 "metadata": {
  "kernelspec": {
   "display_name": "Python 3 (ipykernel)",
   "language": "python",
   "name": "python3"
  },
  "language_info": {
   "codemirror_mode": {
    "name": "ipython",
    "version": 3
   },
   "file_extension": ".py",
   "mimetype": "text/x-python",
   "name": "python",
   "nbconvert_exporter": "python",
   "pygments_lexer": "ipython3",
   "version": "3.10.6"
  }
 },
 "nbformat": 4,
 "nbformat_minor": 5
}
